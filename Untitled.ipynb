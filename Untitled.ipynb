{
 "cells": [
  {
   "cell_type": "code",
   "execution_count": null,
   "metadata": {},
   "outputs": [],
   "source": [
    "import keras\n",
    "# from keras.datasets import mnist\n",
    "# from keras.models import Sequential\n",
    "# from keras.layers import Dense, Dropout, Flatten\n",
    "# from keras.layers import Conv2D, MaxPooling2D\n",
    "# from keras.optimizers import Adam\n",
    "# from keras import backend as K\n",
    "import matplotlib.pyplot as plt\n",
    "import random\n",
    "import numpy as np\n",
    "from emnist import list_datasets,extract_training_samples,extract_test_samples\n"
   ]
  },
  {
   "cell_type": "code",
   "execution_count": 2,
   "metadata": {},
   "outputs": [
    {
     "output_type": "stream",
     "name": "stdout",
     "text": [
      "['balanced', 'byclass', 'bymerge', 'digits', 'letters', 'mnist']\n"
     ]
    }
   ],
   "source": [
    "print(list_datasets())"
   ]
  },
  {
   "cell_type": "code",
   "execution_count": 3,
   "metadata": {},
   "outputs": [],
   "source": [
    "#labels: 0-9 -> 0-9, A-Z -> 10-35, a-z -> 36-61 \n",
    "\n",
    "X_train, y_train = extract_training_samples('byclass')\n",
    "# print(X_train.shape)\n",
    "# print(y_train[0:10])\n",
    "# print(max(y_train),min(y_train))\n",
    "\n",
    "# import matplotlib.pyplot as plt\n",
    "# fig, axes = plt.subplots(5,2, figsize=(28,28))\n",
    "\n",
    "# for i,ax in enumerate(axes.flat):\n",
    "#     ax.imshow(X_train[i])\n",
    "    \n",
    "\n",
    "X_test, y_test = extract_test_samples('byclass')\n",
    "# print(X_test.shape)\n",
    "# print(y_test.shape)"
   ]
  },
  {
   "cell_type": "code",
   "execution_count": 4,
   "metadata": {},
   "outputs": [],
   "source": [
    "X_train = np.array(X_train) / 255.0\n",
    "y_train = np.array(y_train)\n",
    "X_test = np.array(X_test) / 255.0\n",
    "y_test = np.array(y_test)"
   ]
  },
  {
   "cell_type": "code",
   "execution_count": null,
   "metadata": {},
   "outputs": [],
   "source": []
  }
 ],
 "metadata": {
  "kernelspec": {
   "name": "Python 3.7.9 64-bit ('hand': conda)",
   "display_name": "Python 3.7.9 64-bit ('hand': conda)",
   "metadata": {
    "interpreter": {
     "hash": "85a8dd5522ebf9d59b53b39eae5de9aa029a99cf36aad836213a16fb469d69e7"
    }
   }
  },
  "language_info": {
   "codemirror_mode": {
    "name": "ipython",
    "version": 3
   },
   "file_extension": ".py",
   "mimetype": "text/x-python",
   "name": "python",
   "nbconvert_exporter": "python",
   "pygments_lexer": "ipython3",
   "version": "3.7.9-final"
  }
 },
 "nbformat": 4,
 "nbformat_minor": 4
}